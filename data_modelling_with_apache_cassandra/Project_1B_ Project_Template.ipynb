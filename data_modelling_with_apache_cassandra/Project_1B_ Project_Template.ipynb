{
 "cells": [
  {
   "cell_type": "markdown",
   "metadata": {},
   "source": [
    "# Part I. ETL Pipeline for Pre-Processing the Files"
   ]
  },
  {
   "cell_type": "markdown",
   "metadata": {},
   "source": [
    "## Pre-Processing The Data Files"
   ]
  },
  {
   "cell_type": "markdown",
   "metadata": {},
   "source": [
    "#### Importing Python packages "
   ]
  },
  {
   "cell_type": "code",
   "execution_count": 100,
   "metadata": {},
   "outputs": [],
   "source": [
    "import pandas as pd\n",
    "import cassandra\n",
    "import re\n",
    "import os\n",
    "import glob\n",
    "import numpy as np\n",
    "import json\n",
    "import csv"
   ]
  },
  {
   "cell_type": "markdown",
   "metadata": {},
   "source": [
    "#### Creating a list of filepaths to process original event CSV data files"
   ]
  },
  {
   "cell_type": "code",
   "execution_count": 101,
   "metadata": {},
   "outputs": [
    {
     "name": "stdout",
     "output_type": "stream",
     "text": [
      "/Users/rsharma/Mine/Udacity/DataEngineeringWithAWS/Projects/data_modelling_with_apache_cassandra\n"
     ]
    }
   ],
   "source": [
    "# checking the current working directory\n",
    "print(os.getcwd())\n",
    "\n",
    "# getting the current folder and subfolder event data\n",
    "filepath = os.getcwd() + '/event_data'\n",
    "\n",
    "# creating a for loop to create a list of files and collect each filepath\n",
    "for root, dirs, files in os.walk(filepath):\n",
    "    \n",
    "# joining the file path and roots with the subdirectories using glob\n",
    "    file_path_list = glob.glob(os.path.join(root,'*'))"
   ]
  },
  {
   "cell_type": "code",
   "execution_count": 102,
   "metadata": {},
   "outputs": [
    {
     "data": {
      "text/plain": [
       "['/Users/rsharma/Mine/Udacity/DataEngineeringWithAWS/Projects/data_modelling_with_apache_cassandra/event_data/2018-11-15-events.csv',\n",
       " '/Users/rsharma/Mine/Udacity/DataEngineeringWithAWS/Projects/data_modelling_with_apache_cassandra/event_data/2018-11-22-events.csv',\n",
       " '/Users/rsharma/Mine/Udacity/DataEngineeringWithAWS/Projects/data_modelling_with_apache_cassandra/event_data/2018-11-09-events.csv',\n",
       " '/Users/rsharma/Mine/Udacity/DataEngineeringWithAWS/Projects/data_modelling_with_apache_cassandra/event_data/2018-11-18-events.csv',\n",
       " '/Users/rsharma/Mine/Udacity/DataEngineeringWithAWS/Projects/data_modelling_with_apache_cassandra/event_data/2018-11-04-events.csv',\n",
       " '/Users/rsharma/Mine/Udacity/DataEngineeringWithAWS/Projects/data_modelling_with_apache_cassandra/event_data/2018-11-01-events.csv',\n",
       " '/Users/rsharma/Mine/Udacity/DataEngineeringWithAWS/Projects/data_modelling_with_apache_cassandra/event_data/2018-11-27-events.csv',\n",
       " '/Users/rsharma/Mine/Udacity/DataEngineeringWithAWS/Projects/data_modelling_with_apache_cassandra/event_data/2018-11-10-events.csv',\n",
       " '/Users/rsharma/Mine/Udacity/DataEngineeringWithAWS/Projects/data_modelling_with_apache_cassandra/event_data/2018-11-20-events.csv',\n",
       " '/Users/rsharma/Mine/Udacity/DataEngineeringWithAWS/Projects/data_modelling_with_apache_cassandra/event_data/2018-11-17-events.csv',\n",
       " '/Users/rsharma/Mine/Udacity/DataEngineeringWithAWS/Projects/data_modelling_with_apache_cassandra/event_data/2018-11-06-events.csv',\n",
       " '/Users/rsharma/Mine/Udacity/DataEngineeringWithAWS/Projects/data_modelling_with_apache_cassandra/event_data/2018-11-03-events.csv',\n",
       " '/Users/rsharma/Mine/Udacity/DataEngineeringWithAWS/Projects/data_modelling_with_apache_cassandra/event_data/2018-11-28-events.csv',\n",
       " '/Users/rsharma/Mine/Udacity/DataEngineeringWithAWS/Projects/data_modelling_with_apache_cassandra/event_data/2018-11-12-events.csv',\n",
       " '/Users/rsharma/Mine/Udacity/DataEngineeringWithAWS/Projects/data_modelling_with_apache_cassandra/event_data/2018-11-25-events.csv',\n",
       " '/Users/rsharma/Mine/Udacity/DataEngineeringWithAWS/Projects/data_modelling_with_apache_cassandra/event_data/2018-11-26-events.csv',\n",
       " '/Users/rsharma/Mine/Udacity/DataEngineeringWithAWS/Projects/data_modelling_with_apache_cassandra/event_data/2018-11-11-events.csv',\n",
       " '/Users/rsharma/Mine/Udacity/DataEngineeringWithAWS/Projects/data_modelling_with_apache_cassandra/event_data/2018-11-14-events.csv',\n",
       " '/Users/rsharma/Mine/Udacity/DataEngineeringWithAWS/Projects/data_modelling_with_apache_cassandra/event_data/2018-11-23-events.csv',\n",
       " '/Users/rsharma/Mine/Udacity/DataEngineeringWithAWS/Projects/data_modelling_with_apache_cassandra/event_data/2018-11-08-events.csv',\n",
       " '/Users/rsharma/Mine/Udacity/DataEngineeringWithAWS/Projects/data_modelling_with_apache_cassandra/event_data/2018-11-19-events.csv',\n",
       " '/Users/rsharma/Mine/Udacity/DataEngineeringWithAWS/Projects/data_modelling_with_apache_cassandra/event_data/2018-11-05-events.csv',\n",
       " '/Users/rsharma/Mine/Udacity/DataEngineeringWithAWS/Projects/data_modelling_with_apache_cassandra/event_data/2018-11-02-events.csv',\n",
       " '/Users/rsharma/Mine/Udacity/DataEngineeringWithAWS/Projects/data_modelling_with_apache_cassandra/event_data/2018-11-29-events.csv',\n",
       " '/Users/rsharma/Mine/Udacity/DataEngineeringWithAWS/Projects/data_modelling_with_apache_cassandra/event_data/2018-11-13-events.csv',\n",
       " '/Users/rsharma/Mine/Udacity/DataEngineeringWithAWS/Projects/data_modelling_with_apache_cassandra/event_data/2018-11-24-events.csv',\n",
       " '/Users/rsharma/Mine/Udacity/DataEngineeringWithAWS/Projects/data_modelling_with_apache_cassandra/event_data/2018-11-21-events.csv',\n",
       " '/Users/rsharma/Mine/Udacity/DataEngineeringWithAWS/Projects/data_modelling_with_apache_cassandra/event_data/2018-11-16-events.csv',\n",
       " '/Users/rsharma/Mine/Udacity/DataEngineeringWithAWS/Projects/data_modelling_with_apache_cassandra/event_data/2018-11-07-events.csv',\n",
       " '/Users/rsharma/Mine/Udacity/DataEngineeringWithAWS/Projects/data_modelling_with_apache_cassandra/event_data/2018-11-30-events.csv']"
      ]
     },
     "execution_count": 102,
     "metadata": {},
     "output_type": "execute_result"
    }
   ],
   "source": [
    "file_path_list"
   ]
  },
  {
   "cell_type": "markdown",
   "metadata": {},
   "source": [
    "#### Processing the files to create the CSV data file that will be used for Apache Casssandra tables"
   ]
  },
  {
   "cell_type": "code",
   "execution_count": 103,
   "metadata": {},
   "outputs": [],
   "source": [
    "# initiating an empty list of rows that will be generated from each file\n",
    "full_data_rows_list = [] \n",
    "    \n",
    "# for every filepath in the file path list \n",
    "for f in file_path_list:\n",
    "\n",
    "# reading csv file \n",
    "    with open(f, 'r', encoding = 'utf8', newline='') as csvfile: \n",
    "        # creating a csv reader object \n",
    "        csvreader = csv.reader(csvfile) \n",
    "        next(csvreader)\n",
    "        \n",
    " # extracting each data row one by one and append it        \n",
    "        for line in csvreader:\n",
    "            #print(line)\n",
    "            full_data_rows_list.append(line) \n",
    "\n",
    "# creating a smaller event data csv file called event_datafile_full csv that will be used to insert data into the Apache Cassandra tables\n",
    "csv.register_dialect('myDialect', quoting=csv.QUOTE_ALL, skipinitialspace=True)\n",
    "\n",
    "with open('event_datafile_new.csv', 'w', encoding = 'utf8', newline='') as f:\n",
    "    writer = csv.writer(f, dialect='myDialect')\n",
    "    writer.writerow(['artist','firstName','gender','itemInSession','lastName','length',\\\n",
    "                'level','location','sessionId','song','userId'])\n",
    "    for row in full_data_rows_list:\n",
    "        if (row[0] == ''):\n",
    "            continue\n",
    "        writer.writerow((row[0], row[2], row[3], row[4], row[5], row[6], row[7], row[8], row[12], row[13], row[16]))\n"
   ]
  },
  {
   "cell_type": "code",
   "execution_count": 104,
   "metadata": {},
   "outputs": [
    {
     "name": "stdout",
     "output_type": "stream",
     "text": [
      "6821\n"
     ]
    }
   ],
   "source": [
    "# checking the number of rows in the CSV file\n",
    "with open('event_datafile_new.csv', 'r', encoding = 'utf8') as f:\n",
    "    print(sum(1 for line in f))"
   ]
  },
  {
   "cell_type": "markdown",
   "metadata": {},
   "source": [
    "# Part II. Completing the Apache Cassandra portion of the project. \n",
    "\n",
    "## The event_datafile_new.csv contains the following columns: \n",
    "- artist \n",
    "- firstName of user\n",
    "- gender of user\n",
    "- item number in session\n",
    "- last name of user\n",
    "- length of the song\n",
    "- level (paid or free song)\n",
    "- location of the user\n",
    "- sessionId\n",
    "- song title\n",
    "- userId\n",
    "\n",
    "The image below is a screenshot of what the denormalized data should appear like in the <font color=red>**event_datafile_new.csv**</font> after the code above is run:<br>\n",
    "\n",
    "<img src=\"images/image_event_datafile_new.jpg\">"
   ]
  },
  {
   "cell_type": "markdown",
   "metadata": {},
   "source": [
    "## Writing the Apache Cassandra code"
   ]
  },
  {
   "cell_type": "markdown",
   "metadata": {},
   "source": [
    "#### Creating a Cluster"
   ]
  },
  {
   "cell_type": "code",
   "execution_count": 105,
   "metadata": {},
   "outputs": [],
   "source": [
    "# I am running cassandra from docker, so I'll use the connection to (0.0.0.0) on port 32770\n",
    "\n",
    "from cassandra.cluster import Cluster\n",
    "cluster = Cluster(['0.0.0.0'], 32770)\n",
    "\n",
    "# To establish connection and begin executing queries, need a session\n",
    "session = cluster.connect()"
   ]
  },
  {
   "cell_type": "markdown",
   "metadata": {},
   "source": [
    "#### Create Keyspace"
   ]
  },
  {
   "cell_type": "code",
   "execution_count": 106,
   "metadata": {},
   "outputs": [],
   "source": [
    "# Create a Keyspace \n",
    "try:\n",
    "    session.execute(\"\"\"\n",
    "    CREATE KEYSPACE IF NOT EXISTS udacity_data_mod_cassandra \n",
    "    WITH REPLICATION = \n",
    "    { 'class' : 'SimpleStrategy', 'replication_factor' : 1 }\"\"\"\n",
    ")\n",
    "except Exception as e:\n",
    "    print(e)"
   ]
  },
  {
   "cell_type": "markdown",
   "metadata": {},
   "source": [
    "#### Set Keyspace"
   ]
  },
  {
   "cell_type": "code",
   "execution_count": 107,
   "metadata": {},
   "outputs": [],
   "source": [
    "# Set KEYSPACE to the keyspace specified above\n",
    "try:\n",
    "    session.set_keyspace('udacity_data_mod_cassandra')\n",
    "except Exception as e:\n",
    "    print(e)"
   ]
  },
  {
   "cell_type": "markdown",
   "metadata": {},
   "source": [
    "### Create tables to run the following queries. \n",
    "\n",
    "Note: With Apache Cassandra we model the database tables on the queries we want to run."
   ]
  },
  {
   "cell_type": "markdown",
   "metadata": {},
   "source": [
    "## Create queries to ask the following three questions of the data\n",
    "\n",
    "1. Give me the artist, song title and song's length in the music app history that was heard during  sessionId = 338, and itemInSession  = 4\n",
    "\n",
    "2. Give me only the following: name of artist, song (sorted by itemInSession) and user (first and last name) for userid = 10, sessionid = 182\n",
    "    \n",
    "3. Give me every user name (first and last) in my music app history who listened to the song 'All Hands Against His Own'"
   ]
  },
  {
   "cell_type": "code",
   "execution_count": null,
   "metadata": {},
   "outputs": [],
   "source": [
    "## column positions\n",
    "# 0 artist \n",
    "# 1 firstName of user\n",
    "# 2 gender of user\n",
    "# 3 item number in session\n",
    "# 4 last name of user\n",
    "# 5 length of the song\n",
    "# 6 level (paid or free song)\n",
    "# 7 location of the user\n",
    "# 8 sessionId\n",
    "# 9 song title\n",
    "# 10 userId"
   ]
  },
  {
   "cell_type": "markdown",
   "metadata": {},
   "source": [
    "#### Query 1:  The artist, song title, and song's length in the music app history that was heard during sessionId = 338 and itemInSession = 4"
   ]
  },
  {
   "cell_type": "code",
   "execution_count": 108,
   "metadata": {},
   "outputs": [],
   "source": [
    "# the query only asks for the artist name, song title, and song length with respect to the session id and item number in session, \n",
    "# so the table that satisfies this query will only have the columns that are needed as outputs and the columns that will be used for filtering the data,\n",
    "# i.e., artist, song_title, song_length, session_id, item_in_session\n",
    "# the PRIMARY KEY will be a composite key containing the session_id and item_in_session because these two columns already satisfy uniqueness for each record\n",
    "\n",
    "query = \"CREATE TABLE IF NOT EXISTS artist_songs \"\n",
    "query = query + \"(artist text, song_title text, song_length float, session_id int, item_in_session int, PRIMARY KEY (session_id, item_in_session))\"\n",
    "try:\n",
    "    session.execute(query)\n",
    "except Exception as e:\n",
    "    print(e)"
   ]
  },
  {
   "cell_type": "code",
   "execution_count": 109,
   "metadata": {
    "scrolled": false
   },
   "outputs": [],
   "source": [
    "file = 'event_datafile_new.csv'\n",
    "\n",
    "with open(file, encoding = 'utf8') as f:\n",
    "    csvreader = csv.reader(f)\n",
    "    next(csvreader) # skip header\n",
    "    for line in csvreader:\n",
    "        query = \"INSERT INTO artist_songs (artist, song_title, song_length, session_id, item_in_session)\"\n",
    "        query = query + \" VALUES (%s, %s, %s, %s, %s)\"\n",
    "        session.execute(query, (line[0], line[9], float(line[5]), int(line[8]), int(line[3])))"
   ]
  },
  {
   "cell_type": "code",
   "execution_count": 110,
   "metadata": {
    "scrolled": true
   },
   "outputs": [
    {
     "data": {
      "text/html": [
       "<div>\n",
       "<style scoped>\n",
       "    .dataframe tbody tr th:only-of-type {\n",
       "        vertical-align: middle;\n",
       "    }\n",
       "\n",
       "    .dataframe tbody tr th {\n",
       "        vertical-align: top;\n",
       "    }\n",
       "\n",
       "    .dataframe thead th {\n",
       "        text-align: right;\n",
       "    }\n",
       "</style>\n",
       "<table border=\"1\" class=\"dataframe\">\n",
       "  <thead>\n",
       "    <tr style=\"text-align: right;\">\n",
       "      <th></th>\n",
       "      <th>artist</th>\n",
       "      <th>song_title</th>\n",
       "      <th>song_length</th>\n",
       "    </tr>\n",
       "  </thead>\n",
       "  <tbody>\n",
       "    <tr>\n",
       "      <th>0</th>\n",
       "      <td>Faithless</td>\n",
       "      <td>Music Matters (Mark Knight Dub)</td>\n",
       "      <td>495.307312</td>\n",
       "    </tr>\n",
       "  </tbody>\n",
       "</table>\n",
       "</div>"
      ],
      "text/plain": [
       "      artist                       song_title  song_length\n",
       "0  Faithless  Music Matters (Mark Knight Dub)   495.307312"
      ]
     },
     "execution_count": 110,
     "metadata": {},
     "output_type": "execute_result"
    }
   ],
   "source": [
    "query = \"SELECT artist, song_title, song_length FROM artist_songs WHERE session_id = 338 AND item_in_session = 4\"\n",
    "try:\n",
    "    results = session.execute(query)\n",
    "except Exception as e:\n",
    "    print(e)\n",
    "\n",
    "pd.DataFrame(results._current_rows)"
   ]
  },
  {
   "cell_type": "markdown",
   "metadata": {},
   "source": [
    "#### Query 2: The name of artist, song (sorted by itemInSession), and user (first and last name) for userid = 10 and sessionid = 182"
   ]
  },
  {
   "cell_type": "code",
   "execution_count": 111,
   "metadata": {},
   "outputs": [],
   "source": [
    "# the query only asks for the artist name, song title, user firstname, and user lastname with respect to the user id and session id, \n",
    "# so the table that satisfies this query will only have the columns that are needed as outputs, the columns that will be used for filtering the data, \n",
    "# and the column needed for sorting the song titles\n",
    "# i.e., artist, song_title, user_first_name, user_last_name, user_id, session_id, item_in_session\n",
    "# the PRIMARY KEY will be a composite key containing the user_id, session_id, and item_in_session because the columns user_id and session_id already satisfy \n",
    "# uniqueness for each record and the column item_in_session will be used as clustering key for sorting the song titles\n",
    "\n",
    "query = \"CREATE TABLE IF NOT EXISTS artist_songs_users \"\n",
    "query = query + \"(artist text, song_title text, session_id int, item_in_session int, user_id int, user_first_name text, user_last_name text, \\\n",
    "                    PRIMARY KEY (user_id, session_id, item_in_session))\"\n",
    "try:\n",
    "    session.execute(query)\n",
    "except Exception as e:\n",
    "    print(e)"
   ]
  },
  {
   "cell_type": "code",
   "execution_count": 112,
   "metadata": {},
   "outputs": [],
   "source": [
    "file = 'event_datafile_new.csv'\n",
    "\n",
    "with open(file, encoding = 'utf8') as f:\n",
    "    csvreader = csv.reader(f)\n",
    "    next(csvreader) # skip header\n",
    "    for line in csvreader:\n",
    "        query = \"INSERT INTO artist_songs_users (artist, song_title, session_id, item_in_session, user_id, user_first_name, user_last_name)\"\n",
    "        query = query + \" VALUES (%s, %s, %s, %s, %s, %s, %s)\"\n",
    "        session.execute(query, (line[0], line[9], int(line[8]), int(line[3]), int(line[10]), line[1], line[4]))"
   ]
  },
  {
   "cell_type": "code",
   "execution_count": 113,
   "metadata": {},
   "outputs": [
    {
     "data": {
      "text/html": [
       "<div>\n",
       "<style scoped>\n",
       "    .dataframe tbody tr th:only-of-type {\n",
       "        vertical-align: middle;\n",
       "    }\n",
       "\n",
       "    .dataframe tbody tr th {\n",
       "        vertical-align: top;\n",
       "    }\n",
       "\n",
       "    .dataframe thead th {\n",
       "        text-align: right;\n",
       "    }\n",
       "</style>\n",
       "<table border=\"1\" class=\"dataframe\">\n",
       "  <thead>\n",
       "    <tr style=\"text-align: right;\">\n",
       "      <th></th>\n",
       "      <th>artist</th>\n",
       "      <th>song_title</th>\n",
       "      <th>user_first_name</th>\n",
       "      <th>user_last_name</th>\n",
       "    </tr>\n",
       "  </thead>\n",
       "  <tbody>\n",
       "    <tr>\n",
       "      <th>0</th>\n",
       "      <td>Down To The Bone</td>\n",
       "      <td>Keep On Keepin' On</td>\n",
       "      <td>Sylvie</td>\n",
       "      <td>Cruz</td>\n",
       "    </tr>\n",
       "    <tr>\n",
       "      <th>1</th>\n",
       "      <td>Three Drives</td>\n",
       "      <td>Greece 2000</td>\n",
       "      <td>Sylvie</td>\n",
       "      <td>Cruz</td>\n",
       "    </tr>\n",
       "    <tr>\n",
       "      <th>2</th>\n",
       "      <td>Sebastien Tellier</td>\n",
       "      <td>Kilometer</td>\n",
       "      <td>Sylvie</td>\n",
       "      <td>Cruz</td>\n",
       "    </tr>\n",
       "    <tr>\n",
       "      <th>3</th>\n",
       "      <td>Lonnie Gordon</td>\n",
       "      <td>Catch You Baby (Steve Pitron &amp; Max Sanna Radio...</td>\n",
       "      <td>Sylvie</td>\n",
       "      <td>Cruz</td>\n",
       "    </tr>\n",
       "  </tbody>\n",
       "</table>\n",
       "</div>"
      ],
      "text/plain": [
       "              artist                                         song_title  \\\n",
       "0   Down To The Bone                                 Keep On Keepin' On   \n",
       "1       Three Drives                                        Greece 2000   \n",
       "2  Sebastien Tellier                                          Kilometer   \n",
       "3      Lonnie Gordon  Catch You Baby (Steve Pitron & Max Sanna Radio...   \n",
       "\n",
       "  user_first_name user_last_name  \n",
       "0          Sylvie           Cruz  \n",
       "1          Sylvie           Cruz  \n",
       "2          Sylvie           Cruz  \n",
       "3          Sylvie           Cruz  "
      ]
     },
     "execution_count": 113,
     "metadata": {},
     "output_type": "execute_result"
    }
   ],
   "source": [
    "query = \"SELECT artist, song_title, user_first_name, user_last_name FROM artist_songs_users WHERE user_id = 10 AND session_id = 182\"\n",
    "try:\n",
    "    results = session.execute(query)\n",
    "except Exception as e:\n",
    "    print(e)\n",
    "    \n",
    "pd.DataFrame(results._current_rows)"
   ]
  },
  {
   "cell_type": "markdown",
   "metadata": {},
   "source": [
    "#### Query 3: The user name (first and last) in the music app history who listened to the song 'All Hands Against His Own'"
   ]
  },
  {
   "cell_type": "code",
   "execution_count": 114,
   "metadata": {},
   "outputs": [],
   "source": [
    "# the query only asks for the user firstname, and user lastname with respect to the song title, \n",
    "# so the table that satisfies this query will only have the columns that are needed as outputs, the column that will be used for filtering the data, \n",
    "# and the column needed for mainting the uniqueness of records\n",
    "# i.e. user_first_name, user_last_name, song_title, user_id\n",
    "# the PRIMARY KEY will be a composite key containing the song_title and the user_id because the column song_title alone will not be enough to maintain the\n",
    "# uniqueness for each record\n",
    "\n",
    "query = \"CREATE TABLE IF NOT EXISTS user_songs \"\n",
    "query = query + \"(user_id int, user_first_name text, user_last_name text, song_title text, PRIMARY KEY (song_title, user_id))\"\n",
    "try:\n",
    "    session.execute(query)\n",
    "except Exception as e:\n",
    "    print(e)"
   ]
  },
  {
   "cell_type": "code",
   "execution_count": 115,
   "metadata": {},
   "outputs": [],
   "source": [
    "file = 'event_datafile_new.csv'\n",
    "\n",
    "with open(file, encoding = 'utf8') as f:\n",
    "    csvreader = csv.reader(f)\n",
    "    next(csvreader) # skip header\n",
    "    for line in csvreader:\n",
    "        query = \"INSERT INTO user_songs (user_id, user_first_name, user_last_name, song_title)\"\n",
    "        query = query + \" VALUES (%s, %s, %s, %s)\"\n",
    "        session.execute(query, (int(line[10]), line[1], line[4], line[9]))"
   ]
  },
  {
   "cell_type": "code",
   "execution_count": 116,
   "metadata": {},
   "outputs": [
    {
     "data": {
      "text/html": [
       "<div>\n",
       "<style scoped>\n",
       "    .dataframe tbody tr th:only-of-type {\n",
       "        vertical-align: middle;\n",
       "    }\n",
       "\n",
       "    .dataframe tbody tr th {\n",
       "        vertical-align: top;\n",
       "    }\n",
       "\n",
       "    .dataframe thead th {\n",
       "        text-align: right;\n",
       "    }\n",
       "</style>\n",
       "<table border=\"1\" class=\"dataframe\">\n",
       "  <thead>\n",
       "    <tr style=\"text-align: right;\">\n",
       "      <th></th>\n",
       "      <th>user_first_name</th>\n",
       "      <th>user_last_name</th>\n",
       "    </tr>\n",
       "  </thead>\n",
       "  <tbody>\n",
       "    <tr>\n",
       "      <th>0</th>\n",
       "      <td>Jacqueline</td>\n",
       "      <td>Lynch</td>\n",
       "    </tr>\n",
       "    <tr>\n",
       "      <th>1</th>\n",
       "      <td>Tegan</td>\n",
       "      <td>Levine</td>\n",
       "    </tr>\n",
       "    <tr>\n",
       "      <th>2</th>\n",
       "      <td>Sara</td>\n",
       "      <td>Johnson</td>\n",
       "    </tr>\n",
       "  </tbody>\n",
       "</table>\n",
       "</div>"
      ],
      "text/plain": [
       "  user_first_name user_last_name\n",
       "0      Jacqueline          Lynch\n",
       "1           Tegan         Levine\n",
       "2            Sara        Johnson"
      ]
     },
     "execution_count": 116,
     "metadata": {},
     "output_type": "execute_result"
    }
   ],
   "source": [
    "query = \"SELECT user_first_name, user_last_name FROM user_songs WHERE song_title = 'All Hands Against His Own'\"\n",
    "try:\n",
    "    results = session.execute(query)\n",
    "except Exception as e:\n",
    "    print(e)\n",
    "    \n",
    "pd.DataFrame(results._current_rows)"
   ]
  },
  {
   "cell_type": "markdown",
   "metadata": {},
   "source": [
    "### Drop the tables before closing out the sessions"
   ]
  },
  {
   "cell_type": "code",
   "execution_count": 4,
   "metadata": {},
   "outputs": [],
   "source": [
    "## TO-DO: Drop the table before closing out the sessions"
   ]
  },
  {
   "cell_type": "code",
   "execution_count": 96,
   "metadata": {},
   "outputs": [],
   "source": [
    "query = \"DROP TABLE IF EXISTS artist_songs\"\n",
    "try:\n",
    "    rows = session.execute(query)\n",
    "except Exception as e:\n",
    "    print(e)"
   ]
  },
  {
   "cell_type": "code",
   "execution_count": 97,
   "metadata": {},
   "outputs": [],
   "source": [
    "query = \"DROP TABLE IF EXISTS artist_songs_users\"\n",
    "try:\n",
    "    rows = session.execute(query)\n",
    "except Exception as e:\n",
    "    print(e)"
   ]
  },
  {
   "cell_type": "code",
   "execution_count": 98,
   "metadata": {},
   "outputs": [],
   "source": [
    "query = \"DROP TABLE IF EXISTS user_songs\"\n",
    "try:\n",
    "    rows = session.execute(query)\n",
    "except Exception as e:\n",
    "    print(e)"
   ]
  },
  {
   "cell_type": "markdown",
   "metadata": {},
   "source": [
    "### Close the session and cluster connection¶"
   ]
  },
  {
   "cell_type": "code",
   "execution_count": 117,
   "metadata": {},
   "outputs": [],
   "source": [
    "session.shutdown()\n",
    "cluster.shutdown()"
   ]
  },
  {
   "cell_type": "code",
   "execution_count": null,
   "metadata": {},
   "outputs": [],
   "source": []
  },
  {
   "cell_type": "code",
   "execution_count": null,
   "metadata": {},
   "outputs": [],
   "source": []
  }
 ],
 "metadata": {
  "kernelspec": {
   "display_name": "Python 3",
   "language": "python",
   "name": "python3"
  },
  "language_info": {
   "codemirror_mode": {
    "name": "ipython",
    "version": 3
   },
   "file_extension": ".py",
   "mimetype": "text/x-python",
   "name": "python",
   "nbconvert_exporter": "python",
   "pygments_lexer": "ipython3",
   "version": "3.9.6"
  }
 },
 "nbformat": 4,
 "nbformat_minor": 2
}
